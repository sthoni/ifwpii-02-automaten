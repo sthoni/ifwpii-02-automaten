{
 "cells": [
  {
   "cell_type": "markdown",
   "id": "3965f783",
   "metadata": {},
   "source": [
    "\n",
    "# Automaten - Becher-Zurück-O-Mat"
   ]
  },
  {
   "cell_type": "markdown",
   "id": "2e1f7cac",
   "metadata": {},
   "source": [
    "\n",
    "## Lernziele\n",
    "- Ich kann **Zustände** und **Ereignisse** (Eingaben) unterscheiden und benennen.\n",
    "- Ich kann **Aktionen/Ausgaben** an Übergängen notieren (z. B. „30 ct auszahlen“).\n",
    "- Ich kann aus einer **textuellen Beschreibung** ein **Zustandsdiagramm** konstruieren.\n",
    "- Ich kann unterschiedliche **Anforderungen** (kund:innenfreundlich vs. kund:innenfeindlich) in meinem Modell begründen.\n"
   ]
  },
  {
   "cell_type": "markdown",
   "id": "562d6384",
   "metadata": {},
   "source": [
    "\n",
    "## Mini-Mermaid-Cheatsheet (stateDiagram-v2)\n",
    "\n",
    "- Startpfeil: `[ * ] --> Zustand`\n",
    "- Zustand mit „sprechendem Namen“: `state \"Kein Becher\" as kein_becher`\n",
    "- Übergang mit Ereignis **und** (optional) Aktion/Ausgabe:  \n",
    "  `quelle --> ziel: ereignis / aktion`\n",
    "\n",
    "**Beispiel-Snippets**\n",
    "\n",
    "```mermaid\n",
    "stateDiagram-v2\n",
    "  [*] --> A\n",
    "  state \"Kein Becher\" as A\n",
    "  state \"1 Becher\" as B\n",
    "  A --> B: eBecher / aNichts\n",
    "```\n"
   ]
  },
  {
   "cell_type": "markdown",
   "id": "7aa09c7b",
   "metadata": {},
   "source": [
    "\n",
    "## Beispiel (vereinfachte Darstellung): *BZ‑O‑Mat* — Becherzähl-Automat\n",
    "\n",
    "Die folgenden Zustände und Ereignisse lehnen sich an das Aufgabenblatt an:  \n",
    "Zustände: `kein Becher`, `1 Becher`, `2 Becher`  \n",
    "Ereignisse (Eingaben): `eBecher` (neuer Becher erkannt), `eBon` (Bon wird eingescannt)  \n",
    "Aktionen (Ausgaben): `a30ct` (30 ct auszahlen), `aNichts` (keine Ausgabe)\n",
    "\n",
    "> ⚠️ **Hinweis:** Die Übergänge unten sind **didaktisch vereinfacht**. Nutzt das Originalblatt für genaue Regeln und passt die Übergänge an eure Auslegung an.\n",
    "\n",
    "```mermaid\n",
    "stateDiagram-v2\n",
    "  [*] --> kein_becher\n",
    "  state \"kein Becher\" as kein_becher\n",
    "  state \"1 Becher\" as ein_becher\n",
    "  state \"2 Becher\" as zwei_becher\n",
    "\n",
    "  %% Becher wird erkannt: Zähler hoch, keine Auszahlung\n",
    "  kein_becher --> ein_becher: eBecher / aNichts\n",
    "  ein_becher  --> zwei_becher: eBecher / aNichts\n",
    "  zwei_becher --> zwei_becher: eBecher / aNichts\n",
    "\n",
    "  %% Bon wird gescannt: je nach Anzahl wird ggf. ausgezahlt und zurückgesetzt\n",
    "  ein_becher  --> kein_becher: eBon / aNichts\n",
    "  zwei_becher --> kein_becher: eBon / a30ct\n",
    "```\n"
   ]
  },
  {
   "cell_type": "markdown",
   "id": "ab1dc287",
   "metadata": {},
   "source": [
    "\n",
    "## Aufgabe 1 — **Normal funktionierender Automat**\n",
    "\n",
    "**Ziel:** Modelliert den *BZ‑O‑Mat* so, dass er „regelkonform“ funktioniert.  \n",
    "Orientiert euch an den Zuständen oben und legt eure **genauen Regeln** fest.\n",
    "\n",
    "**Anforderungen**\n",
    "- Mindestens **3 Zustände** (z. B. 0/1/2 Becher).\n",
    "- Jede Kante hat **Eingabe** und ggf. **Aktion/Ausgabe**.\n",
    "- Es gibt **keine Sackgassen** (von jedem Zustand führen sinnvolle Kanten weg).\n",
    "- Notiert **unter** dem Diagramm eure **Interpretationsregeln** in 2–4 Sätzen.\n",
    "\n",
    "**Template** (kopieren & anpassen):\n",
    "```mermaid\n",
    "stateDiagram-v2\n",
    "  [*] --> s0\n",
    "  state \"kein Becher\" as s0\n",
    "  state \"1 Becher\" as s1\n",
    "  state \"2 Becher\" as s2\n",
    "\n",
    "  %% TODO: Eure Regeln modellieren\n",
    "  s0 --> s1: eBecher / aNichts\n",
    "  s1 --> s2: eBecher / aNichts\n",
    "  s2 --> s2: eBecher / aNichts\n",
    "\n",
    "  s1 --> s0: eBon / aNichts\n",
    "  s2 --> s0: eBon / a30ct\n",
    "```\n",
    "**Erläuterung (Text)**\n",
    "> _Hier in ein paar Sätzen beschreiben, welche Annahmen ihr trefft._\n"
   ]
  },
  {
   "cell_type": "markdown",
   "id": "6c75ca4e",
   "metadata": {},
   "source": [
    "\n",
    "## Aufgabe 2 — **Kund:innenfreundlicher Automat**\n",
    "\n",
    "**Idee:** Das System soll im eher **zugunsten** der Kund:innen entscheiden. Beispiel: Der Automat gibt zu viel Geld fuer eine bestimmte Anzahl Becher aus.\n",
    "\n",
    "**Erläuterung (Text)**\n",
    "> _Begründet kurz, warum euer Modell kund:innenfreundlich ist._\n"
   ]
  },
  {
   "cell_type": "markdown",
   "id": "0d28a5f6",
   "metadata": {},
   "source": [
    "\n",
    "## Aufgabe 3 — **Kund:innenfeindlicher Automat**\n",
    "\n",
    "**Idee:** Das System minimiert betruegt. Beispiel: Man kriegt an einem Punkt kein Geld zurueck oder die Anzahl der Becher wird nicht korrekt gezaehlt.\n",
    "\n",
    "**Erläuterung (Text)**\n",
    "> _Begründet kurz, warum euer Modell besitzerfreundlich ist._\n"
   ]
  },
  {
   "cell_type": "markdown",
   "id": "40f0bbb0",
   "metadata": {},
   "source": [
    "\n",
    "## Peer‑Review (Kurz-Checkliste)\n",
    "- **Vollständigkeit:** Sind alle vorgesehenen Ereignisse abgedeckt? Gibt es Sackgassen?\n",
    "- **Eindeutigkeit:** Versteht eine andere Gruppe das Verhalten ohne Zusatzfragen?\n",
    "- **Zielorientierung:** Erfüllt das Diagramm die jeweilige Zielsetzung?\n"
   ]
  },
  {
   "cell_type": "markdown",
   "id": "64fb8714",
   "metadata": {},
   "source": [
    "\n",
    "## Tipps & Stolpersteine\n",
    "- **Benennung:** Nutzt kurze, sprechende Namen (`kein_becher` statt `Z0`).\n",
    "- **Testfälle:** Denkt euch 3–5 Input‑Sequenzen aus (z. B. `eBecher, eBecher, eBon`) und verfolgt sie über das Diagramm.\n"
   ]
  }
 ],
 "metadata": {
  "language_info": {
   "name": "python"
  }
 },
 "nbformat": 4,
 "nbformat_minor": 5
}
