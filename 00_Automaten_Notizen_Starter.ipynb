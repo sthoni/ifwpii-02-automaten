{
 "cells": [
  {
   "cell_type": "markdown",
   "id": "8271979c",
   "metadata": {},
   "source": [
    "# Notizen zu Automaten (WP II, Klasse 9)\n",
    "*(Trage deinen Namen ein und das Datum an.)*\n",
    "\n",
    "**Name:** ________  \n",
    "**Datum:** ________\n"
   ]
  },
  {
   "cell_type": "markdown",
   "id": "9b116040",
   "metadata": {},
   "source": [
    "## Startaufgabe\n",
    "**In eigenen Worten:** Was ist ein *Automat*? Schreibe 2–3 Sätze.\n",
    "\n",
    "> Tipp: Denke an Geräte, die „von selbst“ nach festen Regeln reagieren (z. B. Lichtschalter, Getränkeautomat).\n"
   ]
  },
  {
   "cell_type": "markdown",
   "id": "b4e25488",
   "metadata": {},
   "source": [
    "---"
   ]
  },
  {
   "cell_type": "markdown",
   "id": "e674f2ab",
   "metadata": {},
   "source": [
    "## Geführte Notizen\n",
    "\n",
    "### Definition\n",
    "Ein Automat ist ein **selbständig arbeitendes Gerät**, das **nach genauen Vorgaben** arbeitet.  \n",
    "> **In deinen Worten** (ergänze/umschreibe): ________________________________\n",
    "\n",
    "### Eingaben (Bedienung)\n",
    "Man kann einen Automaten mit den Eingaben bedienen, die er zur Verfügung stellt (z. B. **Geldeinwurf**, **Knopf drücken**).  \n",
    "**Weitere Beispiele (stichpunktartig):**\n",
    "- ________________________________\n",
    "- ________________________________\n",
    "\n",
    "### Zustände\n",
    "Ein Automat befindet sich immer in einem **bestimmten Zustand** (z. B. *„Warte auf Geld“*, *„Blinken“*).  \n",
    "**Beispiele aus deinem Schulalltag:**\n",
    "- ________________________________\n",
    "- ________________________________\n",
    "\n",
    "### Ausgaben/Reaktionen\n",
    "Ein Automat kann mit einer **Ausgabe** auf unsere Eingaben reagieren (z. B. *„Kaugummi fällt heraus“*, *„LED geht an“*).  \n",
    "**Weitere Beispiele:**\n",
    "- ________________________________\n",
    "- ________________________________\n",
    "\n",
    "### Übergangsdiagramm (Zustandsübergangsdiagramm)\n",
    "Was ein Automat **nach einer Eingabe** macht, ist **fest vorgegeben** und kann mit einem **Übergangsdiagramm** dargestellt werden.  \n",
    "- **Zustände** = Kreise  \n",
    "- **Pfeile** zeigen, wie Zustände aufeinander folgen  \n",
    "- **Beschriftung an Pfeilen** = Eingaben/Ereignisse, die den Wechsel auslösen\n",
    "\n",
    "**Erkläre in 1–2 Sätzen, wie so ein Diagramm aufgebaut ist:**  \n",
    "________________________________\n"
   ]
  },
  {
   "cell_type": "markdown",
   "id": "9a283760",
   "metadata": {},
   "source": [
    "## Aufgabe: Modell „Lichtschalter“\n",
    "1. Notiere zwei Zustände für einen Lichtschalter (z. B. *AN*, *AUS*).  \n",
    "2. Lege fest, welche Eingabe den Wechsel auslöst (z. B. *Kippschalter drücken*).  \n",
    "3. Zeichne ein Übergangsdiagramm.\n",
    "\n",
    "> **So kannst du dokumentieren:**\n",
    "> - **Variante A:** Zeichne auf Papier, fotografiere und **füge das Bild hier ein** (Menü: *Einfügen → Bild…*).\n",
    "> - **Variante B (optional):** Nutze *Mermaid*.\n",
    "\n"
   ]
  },
  {
   "cell_type": "markdown",
   "id": "c35cff1f",
   "metadata": {},
   "source": [
    "## Beispiele sammeln (Eingaben, Zustände, Ausgaben)\n",
    "\n",
    "| Automat/Gerät         | mögliche Eingaben          | Zustände (Beispiele)      | mögliche Ausgaben/Reaktionen   |\n",
    "|-----------------------|----------------------------|---------------------------|--------------------------------|\n",
    "| Getränkeautomat       | Geld einwerfen, Knopf      | Warte auf Geld, Auswahl   | Getränk fällt, Restgeld        |\n",
    "| **Dein Beispiel 1**   | _________________________  | ________________________  | _____________________________  |\n",
    "| **Dein Beispiel 2**   | _________________________  | ________________________  | _____________________________  |\n"
   ]
  },
  {
   "cell_type": "markdown",
   "id": "28db6fb3",
   "metadata": {},
   "source": [
    "## Reflexion (2–3 Sätze)\n",
    "- Was habe ich heute über Automaten gelernt?  \n",
    "- Wo sehe ich Beispiele in der Schule/zu Hause?  \n",
    "- Was ist mir noch unklar?\n"
   ]
  },
  {
   "cell_type": "markdown",
   "id": "277dabe3",
   "metadata": {},
   "source": [
    "---\n",
    "## Markdown-Spickzettel (kurz)\n",
    "\n",
    "### Überschriften\n",
    "# H1  \n",
    "## H2  \n",
    "### H3\n",
    "\n",
    "### Textformat\n",
    "**fett**  *kursiv*  `Code`  \n",
    "\n",
    "### Listen\n",
    "- Punkt 1\n",
    "- Punkt 2\n",
    "1. Erster\n",
    "2. Zweiter\n",
    "\n",
    "### Link & Bild\n",
    "[Link-Text](https://beispiel.de)  \n",
    "![Bildbeschreibung](pfad/zu/bild.png)\n",
    "\n",
    "> Zitat\n"
   ]
  }
 ],
 "metadata": {
  "language_info": {
   "name": "python"
  }
 },
 "nbformat": 4,
 "nbformat_minor": 5
}
